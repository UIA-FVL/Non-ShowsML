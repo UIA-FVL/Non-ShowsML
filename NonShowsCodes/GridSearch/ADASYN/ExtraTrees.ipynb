{
 "cells": [
  {
   "cell_type": "code",
   "execution_count": null,
   "metadata": {},
   "outputs": [],
   "source": [
    "import pandas as pd\n",
    "import numpy as np\n",
    "import matplotlib.pyplot as plt\n",
    "from sklearn.model_selection import train_test_split\n",
    "from imblearn.over_sampling import ADASYN\n",
    "from sklearn.ensemble import ExtraTreesClassifier\n",
    "from sklearn.model_selection import GridSearchCV\n",
    "from sklearn.preprocessing import StandardScaler"
   ]
  },
  {
   "cell_type": "markdown",
   "metadata": {},
   "source": [
    "ADASYN_NonSD"
   ]
  },
  {
   "cell_type": "code",
   "execution_count": null,
   "metadata": {},
   "outputs": [],
   "source": [
    "data = pd.read_excel('database_non-shows.xlsx')"
   ]
  },
  {
   "cell_type": "code",
   "execution_count": null,
   "metadata": {},
   "outputs": [],
   "source": [
    "x = data.drop('Appointment Type', axis=1)\n",
    "y = data['Appointment Type']\n",
    "X_train, X_test, y_train, y_test = train_test_split(x, y, test_size=0.2, random_state=42)"
   ]
  },
  {
   "cell_type": "code",
   "execution_count": null,
   "metadata": {},
   "outputs": [],
   "source": [
    "adasyn = ADASYN(sampling_strategy='minority', random_state=45)\n",
    "X_train, y_train = adasyn.fit_resample(X_train, y_train)"
   ]
  },
  {
   "cell_type": "code",
   "execution_count": null,
   "metadata": {},
   "outputs": [],
   "source": [
    "param_grid = {\n",
    "    'n_estimators' : [50, 100, 150, 200, 250],\n",
    "    'criterion' : [\"gini\", \"entropy\"],\n",
    "    'max_depth' : [10, 20, 30, 40],\n",
    "    'min_samples_split' : [2, 5, 10, 20, 30],\n",
    "    'min_samples_leaf' : [1, 2, 5, 10, 20],\n",
    "    'max_features' : [None,\"auto\", \"sqrt\", \"log2\", 1, 2, 3],\n",
    "    'bootstrap' : [True, False],\n",
    "    'random_state' : [42, 123, 456, 789]\n",
    "}\n",
    "\n",
    "model = ExtraTreesClassifier()\n",
    "grid_search = GridSearchCV(model, param_grid, cv=5, scoring='accuracy')\n",
    "grid_search.fit(X_train, y_train)\n",
    "\n",
    "best_params = grid_search.best_params_\n",
    "best_accuracy = grid_search.best_score_\n",
    "\n",
    "print(\"Mejor combinación de hiperparámetros:\", best_params)\n",
    "print(\"Precisión más alta encontrada:\", best_accuracy)"
   ]
  },
  {
   "cell_type": "markdown",
   "metadata": {},
   "source": [
    "ADASYN_SD"
   ]
  },
  {
   "cell_type": "code",
   "execution_count": null,
   "metadata": {},
   "outputs": [],
   "source": [
    "data = pd.read_excel('database_non-shows.xlsx')"
   ]
  },
  {
   "cell_type": "code",
   "execution_count": null,
   "metadata": {},
   "outputs": [],
   "source": [
    "x = data.drop('Appointment Type', axis=1)\n",
    "y = data['Appointment Type']\n",
    "X_train, X_test, y_train, y_test = train_test_split(x, y, test_size=0.2, random_state=42)"
   ]
  },
  {
   "cell_type": "code",
   "execution_count": null,
   "metadata": {},
   "outputs": [],
   "source": [
    "adasyn = ADASYN(sampling_strategy='minority', random_state=45)\n",
    "X_train, y_train = adasyn.fit_resample(X_train, y_train)"
   ]
  },
  {
   "cell_type": "code",
   "execution_count": null,
   "metadata": {},
   "outputs": [],
   "source": [
    "sc = StandardScaler()\n",
    "sc.fit(X_train)\n",
    "X_train= sc.transform(X_train)\n",
    "X_test = sc.transform(X_test)"
   ]
  },
  {
   "cell_type": "code",
   "execution_count": null,
   "metadata": {},
   "outputs": [],
   "source": [
    "param_grid = {\n",
    "    'n_estimators' : [50, 100, 150, 200, 250],\n",
    "    'criterion' : [\"gini\", \"entropy\"],\n",
    "    'max_depth' : [10, 20, 30, 40],\n",
    "    'min_samples_split' : [2, 5, 10, 20, 30],\n",
    "    'min_samples_leaf' : [1, 2, 5, 10, 20],\n",
    "    'max_features' : [None,\"auto\", \"sqrt\", \"log2\", 1, 2, 3],\n",
    "    'bootstrap' : [True, False],\n",
    "    'random_state' : [42, 123, 456, 789]\n",
    "}\n",
    "\n",
    "model = ExtraTreesClassifier()\n",
    "grid_search = GridSearchCV(model, param_grid, cv=5, scoring='accuracy')\n",
    "grid_search.fit(X_train, y_train)  # X_train e y_train son tus datos de entrenamiento\n",
    "\n",
    "best_params = grid_search.best_params_\n",
    "best_accuracy = grid_search.best_score_\n",
    "\n",
    "print(\"Mejor combinación de hiperparámetros:\", best_params)\n",
    "print(\"Precisión más alta encontrada:\", best_accuracy)\n"
   ]
  }
 ],
 "metadata": {
  "language_info": {
   "name": "python"
  }
 },
 "nbformat": 4,
 "nbformat_minor": 2
}
