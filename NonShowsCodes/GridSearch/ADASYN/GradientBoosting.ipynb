{
  "cells": [
    {
      "cell_type": "code",
      "execution_count": 1,
      "metadata": {
        "id": "KBIV-IR2ENHl"
      },
      "outputs": [],
      "source": [
        "import pandas as pd\n",
        "import numpy as np\n",
        "import matplotlib.pyplot as plt\n",
        "from sklearn.model_selection import train_test_split\n",
        "from imblearn.over_sampling import ADASYN\n",
        "from sklearn.ensemble import GradientBoostingClassifier\n",
        "from sklearn.model_selection import GridSearchCV\n",
        "from sklearn.preprocessing import StandardScaler\n"
      ]
    },
    {
      "cell_type": "markdown",
      "metadata": {
        "id": "_WSEZrhYHrwf"
      },
      "source": [
        "ADASYN_NonSD"
      ]
    },
    {
      "cell_type": "code",
      "execution_count": 3,
      "metadata": {
        "id": "BWffoYrm9cV4"
      },
      "outputs": [],
      "source": [
        "data = pd.read_excel('database_non-shows.xlsx')"
      ]
    },
    {
      "cell_type": "code",
      "execution_count": 4,
      "metadata": {
        "id": "hSKIsUIa9cV5"
      },
      "outputs": [],
      "source": [
        "x = data.drop('Appointment Type', axis=1)\n",
        "y = data['Appointment Type']\n",
        "X_train, X_test, y_train, y_test = train_test_split(x, y, test_size=0.2, random_state=42)"
      ]
    },
    {
      "cell_type": "code",
      "execution_count": 5,
      "metadata": {
        "id": "DVe2Xb8F9cV5"
      },
      "outputs": [],
      "source": [
        "adasyn = ADASYN(sampling_strategy='minority', random_state=45)\n",
        "X_train, y_train = adasyn.fit_resample(X_train, y_train)"
      ]
    },
    {
      "cell_type": "code",
      "execution_count": 6,
      "metadata": {
        "colab": {
          "base_uri": "https://localhost:8080/"
        },
        "id": "v4uioLC5MWJr",
        "outputId": "515ae108-c84f-4156-9914-660a4575b624"
      },
      "outputs": [
        {
          "name": "stdout",
          "output_type": "stream",
          "text": [
            "Mejor combinación de hiperparámetros: {'learning_rate': 0.2, 'max_depth': 5, 'n_estimators': 200}\n",
            "Precisión más alta encontrada: 0.8211119651550088\n",
            "Puntuación ROC AUC: 0.7915596591935659\n"
          ]
        }
      ],
      "source": [
        "param_grid = {\n",
        "    'n_estimators': [50, 100, 200],\n",
        "    'learning_rate': [0.01, 0.1, 0.2],\n",
        "    'max_depth': [3, 4, 5]\n",
        "}\n",
        "\n",
        "model = GradientBoostingClassifier()\n",
        "grid_search = GridSearchCV(model, param_grid, cv=5, scoring='accuracy')\n",
        "grid_search.fit(X_train, y_train)\n",
        "\n",
        "best_params = grid_search.best_params_\n",
        "best_accuracy = grid_search.best_score_\n",
        "\n",
        "best_model = GradientBoostingClassifier(**best_params)\n",
        "best_model.fit(X_train, y_train)\n",
        "\n",
        "print(\"Mejor combinación de hiperparámetros:\", best_params)\n",
        "print(\"Precisión más alta encontrada:\", best_accuracy)"
      ]
    },
    {
      "cell_type": "markdown",
      "metadata": {
        "id": "Zvsmcxa39cV6"
      },
      "source": [
        "ADASYN_SD"
      ]
    },
    {
      "cell_type": "code",
      "execution_count": 7,
      "metadata": {
        "id": "HZUgwbLs9cV7"
      },
      "outputs": [],
      "source": [
        "data = pd.read_excel('database_non-shows.xlsx')"
      ]
    },
    {
      "cell_type": "code",
      "execution_count": 8,
      "metadata": {
        "id": "-tm02xLw9cV7"
      },
      "outputs": [],
      "source": [
        "x = data.drop('Appointment Type', axis=1)\n",
        "y = data['Appointment Type']\n",
        "X_train, X_test, y_train, y_test = train_test_split(x, y, test_size=0.2, random_state=42)"
      ]
    },
    {
      "cell_type": "code",
      "execution_count": 9,
      "metadata": {
        "id": "zCgRtzxn9cV8"
      },
      "outputs": [],
      "source": [
        "from imblearn.over_sampling import ADASYN\n",
        "adasyn = ADASYN(sampling_strategy='minority', random_state=45)\n",
        "X_train, y_train = adasyn.fit_resample(X_train, y_train)"
      ]
    },
    {
      "cell_type": "code",
      "execution_count": 10,
      "metadata": {
        "id": "fhPlStx29cV8"
      },
      "outputs": [],
      "source": [
        "sc = StandardScaler()\n",
        "sc.fit(X_train)\n",
        "X_train= sc.transform(X_train)\n",
        "X_test = sc.transform(X_test)"
      ]
    },
    {
      "cell_type": "code",
      "execution_count": 11,
      "metadata": {
        "colab": {
          "base_uri": "https://localhost:8080/"
        },
        "id": "YMh2-Oij9cV8",
        "outputId": "0002cc89-96b1-438e-f79a-b8f5c959b5e6"
      },
      "outputs": [
        {
          "name": "stdout",
          "output_type": "stream",
          "text": [
            "Mejor combinación de hiperparámetros: {'learning_rate': 0.2, 'max_depth': 5, 'n_estimators': 200}\n",
            "Precisión más alta encontrada: 0.8210094798872662\n",
            "Puntuación ROC AUC: 0.7915706288038737\n"
          ]
        }
      ],
      "source": [
        "param_grid = {\n",
        "    'n_estimators': [50, 100, 200],\n",
        "    'learning_rate': [0.01, 0.1, 0.2],\n",
        "    'max_depth': [3, 4, 5]\n",
        "}\n",
        "\n",
        "model = GradientBoostingClassifier()\n",
        "grid_search = GridSearchCV(model, param_grid, cv=5, scoring='accuracy')\n",
        "grid_search.fit(X_train, y_train) \n",
        "\n",
        "best_params = grid_search.best_params_\n",
        "best_accuracy = grid_search.best_score_\n",
        "\n",
        "print(\"Mejor combinación de hiperparámetros:\", best_params)\n",
        "print(\"Precisión más alta encontrada:\", best_accuracy)"
      ]
    }
  ],
  "metadata": {
    "colab": {
      "provenance": []
    },
    "kernelspec": {
      "display_name": "Python 3",
      "name": "python3"
    },
    "language_info": {
      "codemirror_mode": {
        "name": "ipython",
        "version": 3
      },
      "file_extension": ".py",
      "mimetype": "text/x-python",
      "name": "python",
      "nbconvert_exporter": "python",
      "pygments_lexer": "ipython3",
      "version": "3.10.9"
    }
  },
  "nbformat": 4,
  "nbformat_minor": 0
}
